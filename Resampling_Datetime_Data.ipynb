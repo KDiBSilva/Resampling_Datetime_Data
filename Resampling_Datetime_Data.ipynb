{
 "cells": [
  {
   "cell_type": "markdown",
   "id": "540c9f61",
   "metadata": {},
   "source": [
    "# Part 1) Load the data and make a datetime index."
   ]
  },
  {
   "cell_type": "code",
   "execution_count": null,
   "id": "ae1ed275",
   "metadata": {},
   "outputs": [],
   "source": [
    "import pandas as pd\n",
    "import numpy as np\n",
    "\n",
    "\n",
    "import matplotlib.pyplot as plt\n",
    "plt.rcParams['figure.figsize']\n",
    "\n",
    "## Filter ALL warnings\n",
    "import warnings\n",
    "warnings.filterwarnings('ignore')"
   ]
  },
  {
   "cell_type": "code",
   "execution_count": null,
   "id": "2937e6c6",
   "metadata": {},
   "outputs": [],
   "source": [
    "# URL CSV\n",
    "df = pd.read_csv('https://docs.google.com/spreadsheets/d/e/2PACX-1vT_jChgNsQbHbg4TGepzIqk8XC9DTIKmyyxb1upo5cfZCgbfIUQc2ZC0YMzuU5uApP140Ob49KBjdqh/pub?gid=1198589591&single=true&output=csv')\n",
    "df.info()\n",
    "df.head(2)"
   ]
  },
  {
   "cell_type": "markdown",
   "id": "3bce2cc7",
   "metadata": {},
   "source": [
    "## Convert the date column to datetime dtype.\n",
    "\n"
   ]
  },
  {
   "cell_type": "code",
   "execution_count": null,
   "id": "5c48999a",
   "metadata": {},
   "outputs": [],
   "source": [
    "# convert dtype to datetime\n",
    "df['date'] = pd.to_datetime(df['date'], format='%Y%m%d')\n",
    "\n",
    "df.info()\n",
    "df.head(2)"
   ]
  },
  {
   "cell_type": "code",
   "execution_count": null,
   "id": "72b8a0ec",
   "metadata": {},
   "outputs": [],
   "source": [
    "## Creating/testing our time format\n",
    "import datetime as dt\n",
    "today_datetime = dt.datetime.today()\n",
    "\n",
    "fmt = \"%Y/%m/%d\"\n",
    "today_datetime.strftime(fmt)"
   ]
  },
  {
   "cell_type": "markdown",
   "id": "f532a631",
   "metadata": {},
   "source": [
    "## Set the date column as the index.\n"
   ]
  },
  {
   "cell_type": "code",
   "execution_count": null,
   "id": "0067c161",
   "metadata": {},
   "outputs": [],
   "source": [
    "df = df.set_index('date')\n",
    "df.head()"
   ]
  },
  {
   "cell_type": "markdown",
   "id": "4c7ea2ae",
   "metadata": {},
   "source": [
    "## Filter out only the required data:\n",
    "- Keep only data from the year 2000 or later.\n",
    "- Keep only the following features:\n",
    "    - precipitation\n",
    "    - mean_temp\n",
    "    - min_temp\n",
    "    - max_temp\n",
    "    - snow_depth\n"
   ]
  },
  {
   "cell_type": "code",
   "execution_count": null,
   "id": "575ca6af",
   "metadata": {},
   "outputs": [],
   "source": [
    "# filter years 2000+ and keep requested columns\n",
    "df = df.loc['2000':, ['precipitation', 'mean_temp', 'min_temp', 'max_temp', \n",
    "                      'snow_depth']]\n",
    "\n",
    "df.head()"
   ]
  },
  {
   "cell_type": "markdown",
   "id": "e8b3e318",
   "metadata": {},
   "source": [
    "## Impute any missing values.\n",
    "    - Think about each feature and what imputation method makes sense. You may not be able to use the same method for every feature!"
   ]
  },
  {
   "cell_type": "code",
   "execution_count": null,
   "id": "686e7893",
   "metadata": {},
   "outputs": [],
   "source": [
    "df.isna().sum()"
   ]
  },
  {
   "cell_type": "code",
   "execution_count": null,
   "id": "1725a346",
   "metadata": {},
   "outputs": [],
   "source": [
    "df.describe()"
   ]
  },
  {
   "cell_type": "code",
   "execution_count": null,
   "id": "de925f5c",
   "metadata": {},
   "outputs": [],
   "source": [
    "# imputation for prec, using the day after to fill \n",
    "df['precipitation'] = df['precipitation'].fillna(method='bfill')"
   ]
  },
  {
   "cell_type": "code",
   "execution_count": null,
   "id": "d3bb3a25",
   "metadata": {},
   "outputs": [],
   "source": [
    "# imputation for snow depth, using 0 as most entries are 0.\n",
    "df['snow_depth'] = df['snow_depth'].fillna(0)"
   ]
  },
  {
   "cell_type": "code",
   "execution_count": null,
   "id": "7f8ff845",
   "metadata": {},
   "outputs": [],
   "source": [
    "# imputation for mean temp, using two values before and after\n",
    "df['mean_temp'] = df['mean_temp'].interpolate()"
   ]
  },
  {
   "cell_type": "code",
   "execution_count": null,
   "id": "8390bc1b",
   "metadata": {},
   "outputs": [],
   "source": [
    "# imputation for min temp, using two values before and after\n",
    "df['min_temp'] = df['min_temp'].interpolate()"
   ]
  },
  {
   "cell_type": "code",
   "execution_count": null,
   "id": "1f244686",
   "metadata": {},
   "outputs": [],
   "source": [
    "# imputation for max temp, using two values before and after\n",
    "df['max_temp'] = df['max_temp'].interpolate()"
   ]
  },
  {
   "cell_type": "code",
   "execution_count": null,
   "id": "82c4942b",
   "metadata": {},
   "outputs": [],
   "source": [
    "# confirm imputations\n",
    "df.isna().sum()"
   ]
  },
  {
   "cell_type": "markdown",
   "id": "939d387b",
   "metadata": {},
   "source": [
    "# Part 2) Answer the Questions with Visualizations (Using the Correct Frequency)\n",
    "\n",
    "-For each of the following questions, make a new copy of the dataframe resampled to the correct frequency for the question.\n",
    "- Plot the feature that the question is asking about.\n",
    "    - If there is a specific time period, plot only that time period.\n",
    "\n",
    "**Note: you may want to make a temporary DataFrame that you will use to answer this question only.**"
   ]
  },
  {
   "cell_type": "markdown",
   "id": "501bd92a",
   "metadata": {},
   "source": [
    "## Q1: What month had the most precipitation between 2000 through 2010?\n",
    "\n"
   ]
  },
  {
   "cell_type": "code",
   "execution_count": 29,
   "id": "f58c14e7",
   "metadata": {},
   "outputs": [
    {
     "data": {
      "text/html": [
       "<div>\n",
       "<style scoped>\n",
       "    .dataframe tbody tr th:only-of-type {\n",
       "        vertical-align: middle;\n",
       "    }\n",
       "\n",
       "    .dataframe tbody tr th {\n",
       "        vertical-align: top;\n",
       "    }\n",
       "\n",
       "    .dataframe thead th {\n",
       "        text-align: right;\n",
       "    }\n",
       "</style>\n",
       "<table border=\"1\" class=\"dataframe\">\n",
       "  <thead>\n",
       "    <tr style=\"text-align: right;\">\n",
       "      <th></th>\n",
       "      <th>precipitation</th>\n",
       "    </tr>\n",
       "    <tr>\n",
       "      <th>date</th>\n",
       "      <th></th>\n",
       "    </tr>\n",
       "  </thead>\n",
       "  <tbody>\n",
       "    <tr>\n",
       "      <th>2000-01-01</th>\n",
       "      <td>0.0</td>\n",
       "    </tr>\n",
       "    <tr>\n",
       "      <th>2000-01-02</th>\n",
       "      <td>0.2</td>\n",
       "    </tr>\n",
       "  </tbody>\n",
       "</table>\n",
       "</div>"
      ],
      "text/plain": [
       "            precipitation\n",
       "date                     \n",
       "2000-01-01            0.0\n",
       "2000-01-02            0.2"
      ]
     },
     "execution_count": 29,
     "metadata": {},
     "output_type": "execute_result"
    }
   ],
   "source": [
    "# dataframe with years and column\n",
    "prec_df = df.loc['2000':'2010', ['precipitation']]\n",
    "prec_df.head(2)"
   ]
  },
  {
   "cell_type": "markdown",
   "id": "162efc1e",
   "metadata": {},
   "source": [
    "### Resample the data as Monthly frequency."
   ]
  },
  {
   "cell_type": "code",
   "execution_count": 30,
   "id": "833b9af4",
   "metadata": {},
   "outputs": [
    {
     "data": {
      "text/html": [
       "<div>\n",
       "<style scoped>\n",
       "    .dataframe tbody tr th:only-of-type {\n",
       "        vertical-align: middle;\n",
       "    }\n",
       "\n",
       "    .dataframe tbody tr th {\n",
       "        vertical-align: top;\n",
       "    }\n",
       "\n",
       "    .dataframe thead th {\n",
       "        text-align: right;\n",
       "    }\n",
       "</style>\n",
       "<table border=\"1\" class=\"dataframe\">\n",
       "  <thead>\n",
       "    <tr style=\"text-align: right;\">\n",
       "      <th></th>\n",
       "      <th>precipitation</th>\n",
       "    </tr>\n",
       "    <tr>\n",
       "      <th>date</th>\n",
       "      <th></th>\n",
       "    </tr>\n",
       "  </thead>\n",
       "  <tbody>\n",
       "    <tr>\n",
       "      <th>2000-01-01</th>\n",
       "      <td>0.0</td>\n",
       "    </tr>\n",
       "    <tr>\n",
       "      <th>2000-02-01</th>\n",
       "      <td>9.8</td>\n",
       "    </tr>\n",
       "    <tr>\n",
       "      <th>2000-03-01</th>\n",
       "      <td>0.2</td>\n",
       "    </tr>\n",
       "    <tr>\n",
       "      <th>2000-04-01</th>\n",
       "      <td>0.6</td>\n",
       "    </tr>\n",
       "    <tr>\n",
       "      <th>2000-05-01</th>\n",
       "      <td>0.0</td>\n",
       "    </tr>\n",
       "  </tbody>\n",
       "</table>\n",
       "</div>"
      ],
      "text/plain": [
       "            precipitation\n",
       "date                     \n",
       "2000-01-01            0.0\n",
       "2000-02-01            9.8\n",
       "2000-03-01            0.2\n",
       "2000-04-01            0.6\n",
       "2000-05-01            0.0"
      ]
     },
     "execution_count": 30,
     "metadata": {},
     "output_type": "execute_result"
    }
   ],
   "source": [
    "# Coverting data from daily to monthly \n",
    "prec_ms = prec_df.asfreq(\"MS\")\n",
    "prec_ms.name = \"asfreq\"\n",
    "prec_ms.head()\n"
   ]
  },
  {
   "cell_type": "code",
   "execution_count": 31,
   "id": "985bf97b",
   "metadata": {},
   "outputs": [
    {
     "data": {
      "text/html": [
       "<div>\n",
       "<style scoped>\n",
       "    .dataframe tbody tr th:only-of-type {\n",
       "        vertical-align: middle;\n",
       "    }\n",
       "\n",
       "    .dataframe tbody tr th {\n",
       "        vertical-align: top;\n",
       "    }\n",
       "\n",
       "    .dataframe thead th {\n",
       "        text-align: right;\n",
       "    }\n",
       "</style>\n",
       "<table border=\"1\" class=\"dataframe\">\n",
       "  <thead>\n",
       "    <tr style=\"text-align: right;\">\n",
       "      <th></th>\n",
       "      <th>precipitation</th>\n",
       "    </tr>\n",
       "    <tr>\n",
       "      <th>date</th>\n",
       "      <th></th>\n",
       "    </tr>\n",
       "  </thead>\n",
       "  <tbody>\n",
       "    <tr>\n",
       "      <th>2000-01-01</th>\n",
       "      <td>14.7</td>\n",
       "    </tr>\n",
       "    <tr>\n",
       "      <th>2000-02-01</th>\n",
       "      <td>67.4</td>\n",
       "    </tr>\n",
       "    <tr>\n",
       "      <th>2000-03-01</th>\n",
       "      <td>14.2</td>\n",
       "    </tr>\n",
       "    <tr>\n",
       "      <th>2000-04-01</th>\n",
       "      <td>90.8</td>\n",
       "    </tr>\n",
       "    <tr>\n",
       "      <th>2000-05-01</th>\n",
       "      <td>87.4</td>\n",
       "    </tr>\n",
       "  </tbody>\n",
       "</table>\n",
       "</div>"
      ],
      "text/plain": [
       "            precipitation\n",
       "date                     \n",
       "2000-01-01           14.7\n",
       "2000-02-01           67.4\n",
       "2000-03-01           14.2\n",
       "2000-04-01           90.8\n",
       "2000-05-01           87.4"
      ]
     },
     "execution_count": 31,
     "metadata": {},
     "output_type": "execute_result"
    }
   ],
   "source": [
    "# Resample the data as Monthly frequency. sum, of each month\n",
    "mon_prec_res = prec_df.resample(\"MS\").sum()\n",
    "mon_prec_res.name = 'Resampled'\n",
    "mon_prec_res.head()\n"
   ]
  },
  {
   "cell_type": "markdown",
   "id": "c78d0ac3",
   "metadata": {},
   "source": [
    "### Find the date and corresponding value for the max precipitation"
   ]
  },
  {
   "cell_type": "code",
   "execution_count": 32,
   "id": "02c9a56d",
   "metadata": {},
   "outputs": [
    {
     "data": {
      "text/plain": [
       "Timestamp('2000-10-29 00:00:00')"
      ]
     },
     "execution_count": 32,
     "metadata": {},
     "output_type": "execute_result"
    }
   ],
   "source": [
    "# Find the date max precipitation\n",
    "max_date = prec_df['precipitation'].idxmax()\n",
    "max_date"
   ]
  },
  {
   "cell_type": "code",
   "execution_count": 33,
   "id": "f3836d4d",
   "metadata": {},
   "outputs": [
    {
     "data": {
      "text/plain": [
       "36.6"
      ]
     },
     "execution_count": 33,
     "metadata": {},
     "output_type": "execute_result"
    }
   ],
   "source": [
    "# Find the value for the max precipitation\n",
    "precipitation = prec_df['precipitation'].loc[max_date]\n",
    "precipitation"
   ]
  },
  {
   "cell_type": "code",
   "execution_count": 34,
   "id": "0eeb98cd",
   "metadata": {},
   "outputs": [
    {
     "name": "stdout",
     "output_type": "stream",
     "text": [
      "The date with the most precipitation was 10/29/2000, which was a 36.6 inches.\n"
     ]
    }
   ],
   "source": [
    "# Statement for the max precipitation.\n",
    "\n",
    "print(f\"The date with the most precipitation was {max_date.strftime('%m/%d/%Y')}, which was a {precipitation} inches.\")"
   ]
  },
  {
   "cell_type": "markdown",
   "id": "d62a8f3b",
   "metadata": {},
   "source": [
    "**Visualization Issue Workaround**\n",
    "\n",
    "- NOTE: Pandas' .plot method currently has a bug with 4-digit year axis labels. The tick labels misbehave when being formatted with matplotlib and will produce a mostly-blank axis with 1 year labeled, like the screenshot below:\n",
    "\n",
    "- To get around this issue, first, create your fig and ax using plt.subplots()\n",
    "    - Now you may use pandas .plot method to plot this figure by adding the argument \"ax=ax\" to .plot()."
   ]
  },
  {
   "cell_type": "code",
   "execution_count": null,
   "id": "06e9f5c1",
   "metadata": {},
   "outputs": [],
   "source": [
    "#fig, ax = plt.subplots(figsize=(12,3))\n",
    "#df.plot(ax=ax)\n"
   ]
  },
  {
   "cell_type": "markdown",
   "id": "e481fe2a",
   "metadata": {},
   "source": [
    "## Q1 Visualization Requirements\n",
    "- Use a combination of pandas, matplotlib tick formatters, tick locators, and the fig.autofmt_xdate method to:\n",
    "    - Create a wide figure (e.g. figsize=(12,3))\n",
    "        - With the title \"Precipitation for 2000-2010\"\n",
    "        - With a ylabel of \"Inches\"\n",
    "    - Customize the major xaxis ticks to:\n",
    "        - Have major xaxis ticks every 1 year.\n",
    "        - Use 4-digit years for the labels\n",
    "        - Rotate the major ticks' labels 90 degrees.\n",
    "    - Customize the minor xaxis ticks to:\n",
    "        - Have minor xaxis ticks every 3 months\n",
    "        - Do not label the minor ticks."
   ]
  },
  {
   "cell_type": "markdown",
   "id": "8411edbd",
   "metadata": {},
   "source": [
    "# QUESTION: how t=do i get the value on the line or in the legend"
   ]
  },
  {
   "cell_type": "code",
   "execution_count": 51,
   "id": "48e5a146",
   "metadata": {},
   "outputs": [
    {
     "data": {
      "image/png": "[encoded data removed]",
      "text/plain": [
       "<Figure size 1200x300 with 1 Axes>"
      ]
     },
     "metadata": {},
     "output_type": "display_data"
    }
   ],
   "source": [
    "# plot the time series with pandas\n",
    "fig, ax = plt.subplots(figsize=(12,3))\n",
    "prec_df.plot(ax=ax,title='Precipitation for 2000-2010');\n",
    "# y label\n",
    "plt.ylabel('Inches')\n",
    "# line for date of max precipitation\n",
    "ax.axvline(\"10/29/2000\",color='red',lw=1, ls='--')\n",
    "\n",
    "##  Set xticks and xticklables\n",
    "ax.set_xticks(ax.get_xticks())\n",
    "ax.set_xticklabels(ax.get_xticklabels(), fontsize='large',fontweight='bold' )\n",
    "\n",
    "##  customize minor ticks\n",
    "ax.xaxis.set_minor_locator(loc_3months)\n",
    "\n",
    "##  customize major ticks\n",
    "ax.xaxis.set_major_locator(loc_year)\n",
    "ax.xaxis.set_major_formatter(fmt_year)\n",
    "\n",
    "##  Making major/minor gridlines visually distince\n",
    "ax.grid(which='minor',axis='x',ls=\":\")\n",
    "ax.grid(which='major',axis='x',color='k')\n",
    "fig.autofmt_xdate(rotation=90,ha='center')\n",
    "\n"
   ]
  },
  {
   "cell_type": "code",
   "execution_count": 36,
   "id": "1e287083",
   "metadata": {},
   "outputs": [],
   "source": [
    "loc_3months = mdates.MonthLocator(interval=3)\n",
    "fmt_months = mdates.DateFormatter(\"%b\")\n",
    "\n",
    "loc_year = mdates.YearLocator()\n",
    "fmt_year = mdates.DateFormatter(\"%Y\")"
   ]
  },
  {
   "cell_type": "code",
   "execution_count": 41,
   "id": "0aff1641",
   "metadata": {},
   "outputs": [
    {
     "data": {
      "text/plain": [
       "<matplotlib.lines.Line2D at 0x14485d070>"
      ]
     },
     "execution_count": 41,
     "metadata": {},
     "output_type": "execute_result"
    },
    {
     "data": {
      "image/png": "[encoded data removed]",
      "text/plain": [
       "<Figure size 1200x300 with 1 Axes>"
      ]
     },
     "metadata": {},
     "output_type": "display_data"
    }
   ],
   "source": [
    "#Create a wide figure (e.g. figsize=(12,3))\n",
    "fig, ax = plt.subplots(figsize=(12,3))\n",
    "#With the title \"Precipitation for 2000-2010\"\n",
    "prec_df.plot(ax=ax,title='Precipitation for 2000-2010',marker='.',lw=1)\n",
    "#With a ylabel of \"Inches\"\n",
    "\n",
    "##Customize the major xaxis ticks to:\n",
    "#Have major xaxis ticks every 1 year.\n",
    "ax.xaxis.set_major_locator(loc_year)\n",
    "#Use 4-digit years for the labels\n",
    "ax.xaxis.set_major_formatter(fmt_year)\n",
    "\n",
    "#Rotate the major ticks' labels 90 degrees.\n",
    "fig.autofmt_xdate(rotation=90,ha='center')\n",
    "\n",
    "##Customize the minor xaxis ticks to:\n",
    "#Have minor xaxis ticks every 3 months\n",
    "ax.xaxis.set_minor_locator(loc_3months)\n",
    "\n",
    "#Do not label the minor ticks.\n",
    "\n",
    "# Add a vertical line at this date with a label that says the date \n",
    "    #(using date format: \"April 2000\") and the max precipitation value.\n",
    "ax.axvline(\"10/29/2000\",color='k',lw=1, ls='-')"
   ]
  },
  {
   "cell_type": "markdown",
   "id": "f54d3c9d",
   "metadata": {},
   "source": [
    "- Plot the feature and time period that corresponds to the question.\n",
    "    - Make sure to meet the \"Visualization Requirements\" below!\n",
    "- Determine the date and value for the most precipitation (the max precipitation).\n",
    "- Add a vertical line at this date with a label that says the date (using date format: \"April 2000\") and the max precipitation value.\n",
    "    - Make sure to add a legend so that your label is visible."
   ]
  },
  {
   "cell_type": "code",
   "execution_count": null,
   "id": "c01add65",
   "metadata": {},
   "outputs": [],
   "source": []
  },
  {
   "cell_type": "markdown",
   "id": "2ecd34e5",
   "metadata": {},
   "source": [
    "## Q2: Which year between 2000-2020 had the coolest average temperature?\n"
   ]
  },
  {
   "cell_type": "code",
   "execution_count": 24,
   "id": "fb85e2cf",
   "metadata": {},
   "outputs": [
    {
     "data": {
      "text/html": [
       "<div>\n",
       "<style scoped>\n",
       "    .dataframe tbody tr th:only-of-type {\n",
       "        vertical-align: middle;\n",
       "    }\n",
       "\n",
       "    .dataframe tbody tr th {\n",
       "        vertical-align: top;\n",
       "    }\n",
       "\n",
       "    .dataframe thead th {\n",
       "        text-align: right;\n",
       "    }\n",
       "</style>\n",
       "<table border=\"1\" class=\"dataframe\">\n",
       "  <thead>\n",
       "    <tr style=\"text-align: right;\">\n",
       "      <th></th>\n",
       "      <th>mean_temp</th>\n",
       "    </tr>\n",
       "    <tr>\n",
       "      <th>date</th>\n",
       "      <th></th>\n",
       "    </tr>\n",
       "  </thead>\n",
       "  <tbody>\n",
       "    <tr>\n",
       "      <th>2000-01-01</th>\n",
       "      <td>7.0</td>\n",
       "    </tr>\n",
       "    <tr>\n",
       "      <th>2000-01-02</th>\n",
       "      <td>7.9</td>\n",
       "    </tr>\n",
       "  </tbody>\n",
       "</table>\n",
       "</div>"
      ],
      "text/plain": [
       "            mean_temp\n",
       "date                 \n",
       "2000-01-01        7.0\n",
       "2000-01-02        7.9"
      ]
     },
     "execution_count": 24,
     "metadata": {},
     "output_type": "execute_result"
    }
   ],
   "source": [
    "# dataframe with years and column\n",
    "temp_df = df.loc['2000':'2020', ['mean_temp']]\n",
    "temp_df.head(2)"
   ]
  },
  {
   "cell_type": "markdown",
   "id": "5bf24462",
   "metadata": {},
   "source": [
    "## Resample the data as Yearly frequency."
   ]
  },
  {
   "cell_type": "code",
   "execution_count": 25,
   "id": "504b5c23",
   "metadata": {},
   "outputs": [
    {
     "data": {
      "text/html": [
       "<div>\n",
       "<style scoped>\n",
       "    .dataframe tbody tr th:only-of-type {\n",
       "        vertical-align: middle;\n",
       "    }\n",
       "\n",
       "    .dataframe tbody tr th {\n",
       "        vertical-align: top;\n",
       "    }\n",
       "\n",
       "    .dataframe thead th {\n",
       "        text-align: right;\n",
       "    }\n",
       "</style>\n",
       "<table border=\"1\" class=\"dataframe\">\n",
       "  <thead>\n",
       "    <tr style=\"text-align: right;\">\n",
       "      <th></th>\n",
       "      <th>mean_temp</th>\n",
       "    </tr>\n",
       "    <tr>\n",
       "      <th>date</th>\n",
       "      <th></th>\n",
       "    </tr>\n",
       "  </thead>\n",
       "  <tbody>\n",
       "    <tr>\n",
       "      <th>2000-01-01</th>\n",
       "      <td>11.575683</td>\n",
       "    </tr>\n",
       "    <tr>\n",
       "      <th>2001-01-01</th>\n",
       "      <td>11.331507</td>\n",
       "    </tr>\n",
       "    <tr>\n",
       "      <th>2002-01-01</th>\n",
       "      <td>12.084247</td>\n",
       "    </tr>\n",
       "    <tr>\n",
       "      <th>2003-01-01</th>\n",
       "      <td>12.114521</td>\n",
       "    </tr>\n",
       "    <tr>\n",
       "      <th>2004-01-01</th>\n",
       "      <td>11.900683</td>\n",
       "    </tr>\n",
       "  </tbody>\n",
       "</table>\n",
       "</div>"
      ],
      "text/plain": [
       "            mean_temp\n",
       "date                 \n",
       "2000-01-01  11.575683\n",
       "2001-01-01  11.331507\n",
       "2002-01-01  12.084247\n",
       "2003-01-01  12.114521\n",
       "2004-01-01  11.900683"
      ]
     },
     "execution_count": 25,
     "metadata": {},
     "output_type": "execute_result"
    }
   ],
   "source": [
    "# Resample the data as Yearly frequency, for average\n",
    "ts_Y_res = temp_df.resample(\"AS\").mean()\n",
    "ts_Y_res.name = 'Resampled'\n",
    "ts_Y_res.head()\n"
   ]
  },
  {
   "cell_type": "markdown",
   "id": "d82b6538",
   "metadata": {},
   "source": [
    "## Determine the date and value for the lowest mean temp."
   ]
  },
  {
   "cell_type": "code",
   "execution_count": 26,
   "id": "179106bb",
   "metadata": {},
   "outputs": [
    {
     "data": {
      "text/plain": [
       "Timestamp('2010-12-20 00:00:00')"
      ]
     },
     "execution_count": 26,
     "metadata": {},
     "output_type": "execute_result"
    }
   ],
   "source": [
    "# Find the date min mean temp\n",
    "min_date = temp_df['mean_temp'].idxmin()\n",
    "min_date"
   ]
  },
  {
   "cell_type": "code",
   "execution_count": 27,
   "id": "0c397ccb",
   "metadata": {},
   "outputs": [
    {
     "data": {
      "text/plain": [
       "-4.1"
      ]
     },
     "execution_count": 27,
     "metadata": {},
     "output_type": "execute_result"
    }
   ],
   "source": [
    "# Find the value for the min mean temp\n",
    "low_temp = temp_df['mean_temp'].loc[min_date]\n",
    "low_temp"
   ]
  },
  {
   "cell_type": "code",
   "execution_count": 28,
   "id": "fbe35c35",
   "metadata": {},
   "outputs": [
    {
     "name": "stdout",
     "output_type": "stream",
     "text": [
      "The date with the lowest average temp was 12/20/2010, where it was -4.1.\n"
     ]
    }
   ],
   "source": [
    "# Statement for the min mean temp.\n",
    "\n",
    "print(f\"The date with the lowest average temp was {min_date.strftime('%m/%d/%Y')}, where it was {low_temp}.\")"
   ]
  },
  {
   "cell_type": "markdown",
   "id": "92d9b1a3",
   "metadata": {},
   "source": [
    "## Q2 Visualization Requirements\n",
    "- Use a combination of pandas, matplotlib tick formatters, tick locators, and the fig.autofmt_xdate method to:\n",
    "    - Create a wide figure (e.g. figsize=(12,3))\n",
    "        - With the title \"Average Temperature\"\n",
    "        - With a ylabel of \"Degrees\"\n",
    "    - Customize the major xaxis ticks to:\n",
    "        - Have major xaxis ticks every 5 years.\n",
    "        - Use 4-digit years for the labels\n",
    "        - Rotate the major ticks' labels 90 degrees.\n",
    "    - Customize the minor xaxis ticks to:\n",
    "        - Have minor xaxis ticks every 1 year\n",
    "        - Do not label the minor ticks."
   ]
  },
  {
   "cell_type": "code",
   "execution_count": null,
   "id": "6324e519",
   "metadata": {},
   "outputs": [],
   "source": [
    "#Create a wide figure (e.g. figsize=(12,3))\n",
    "fig, ax = plt.subplots(figsize=(12,3))\n",
    "#With the title \"Precipitation for 2000-2010\"\n",
    "prec_df.plot(ax=ax,title='Precipitation for 2000-2010',marker='.',lw=1)\n",
    "#With a ylabel of \"Inches\"\n",
    "\n",
    "##Customize the major xaxis ticks to:\n",
    "#Have major xaxis ticks every 1 year.\n",
    "ax.xaxis.set_major_locator(loc_year)\n",
    "#Use 4-digit years for the labels\n",
    "ax.xaxis.set_major_formatter(fmt_year)\n",
    "\n",
    "#Rotate the major ticks' labels 90 degrees.\n",
    "fig.autofmt_xdate(rotation=90,ha='center')\n",
    "\n",
    "##Customize the minor xaxis ticks to:\n",
    "#Have minor xaxis ticks every 3 months\n",
    "ax.xaxis.set_minor_locator(loc_3months)\n",
    "\n",
    "#Do not label the minor ticks.\n",
    "\n",
    "# Add a vertical line at this date with a label that says the date \n",
    "    #(using date format: \"April 2000\") and the max precipitation value.\n",
    "ax.axvline(\"10/29/2000\",color='k',lw=1, ls='-')"
   ]
  },
  {
   "cell_type": "markdown",
   "id": "f3a66c9d",
   "metadata": {},
   "source": [
    "- Plot the feature and time period that corresponds to the question.\n",
    "    - Make sure to meet the \"Visualization Requirements\" below!\n",
    "\n",
    "- Add a vertical line at this date with a label that says the date (using date format: \"2000\") and the lowest mean temperature value"
   ]
  },
  {
   "cell_type": "code",
   "execution_count": null,
   "id": "244c101e",
   "metadata": {},
   "outputs": [],
   "source": []
  },
  {
   "cell_type": "code",
   "execution_count": null,
   "id": "6541bf87",
   "metadata": {},
   "outputs": [],
   "source": []
  }
 ],
 "metadata": {
  "kernelspec": {
   "display_name": "Python (dojo-env)",
   "language": "python",
   "name": "dojo-env"
  },
  "language_info": {
   "codemirror_mode": {
    "name": "ipython",
    "version": 3
   },
   "file_extension": ".py",
   "mimetype": "text/x-python",
   "name": "python",
   "nbconvert_exporter": "python",
   "pygments_lexer": "ipython3",
   "version": "3.9.15"
  },
  "toc": {
   "base_numbering": 1,
   "nav_menu": {},
   "number_sections": true,
   "sideBar": true,
   "skip_h1_title": false,
   "title_cell": "Table of Contents",
   "title_sidebar": "Contents",
   "toc_cell": false,
   "toc_position": {
    "height": "calc(100% - 180px)",
    "left": "10px",
    "top": "150px",
    "width": "280.426px"
   },
   "toc_section_display": true,
   "toc_window_display": true
  }
 },
 "nbformat": 4,
 "nbformat_minor": 5
}
